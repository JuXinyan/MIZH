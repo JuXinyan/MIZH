{
 "cells": [
  {
   "cell_type": "code",
   "execution_count": 5,
   "id": "initial_id",
   "metadata": {
    "collapsed": true,
    "ExecuteTime": {
     "end_time": "2023-12-15T06:03:56.334342400Z",
     "start_time": "2023-12-15T06:02:50.052277200Z"
    }
   },
   "outputs": [
    {
     "data": {
      "text/plain": "<Figure size 432x288 with 1 Axes>",
      "image/png": "[encoded data removed]"
     },
     "metadata": {
      "needs_background": "light"
     },
     "output_type": "display_data"
    }
   ],
   "source": [
    "import numpy as np\n",
    "import cv2 as cv\n",
    "from matplotlib import pyplot as plt\n",
    "%matplotlib inline\n",
    "\n",
    "class Hopfield:\n",
    "    def __init__(self, size=64, iter=10):\n",
    "        self.iter = iter\n",
    "        self.size = size\n",
    "        self.W = np.zeros((size ** 2, size ** 2))\n",
    "\n",
    "    def train(self, X):\n",
    "        n = self.size ** 2\n",
    "        for x in X:  # (-1,64*64)\n",
    "            x = np.reshape(x, (n, 1))\n",
    "            xT = np.reshape(x, (1, n))\n",
    "            self.W += x * xT / n\n",
    "        self.W[np.diag_indices_from(self.W)] = 0\n",
    "\n",
    "    def test_one_frame(self, x):\n",
    "        n = self.size ** 2\n",
    "        x = np.reshape(x, (n,))\n",
    "        energy = []\n",
    "        for iter in range(self.iter):\n",
    "            h = np.zeros((n,))\n",
    "            for i in range(n):\n",
    "                i = np.random.randint(n)\n",
    "                h[i] = self.W[i, :].dot(x)\n",
    "            x[h > 0] = 1\n",
    "            x[h < 0] = -1\n",
    "            energy.append(self.cal_energy(x))\n",
    "\n",
    "        return np.resize(x, (self.size, self.size)), energy\n",
    "\n",
    "    def cal_energy(self, x):\n",
    "        n = self.size ** 2\n",
    "        energy = np.sum(self.W.dot(x) * x)\n",
    "\n",
    "        return -0.5 * energy\n",
    "\n",
    "\n",
    "def show(x):\n",
    "    img = np.where(x > 0, 255, 0).astype(np.uint8)\n",
    "    cv.imshow(\"img\", img)\n",
    "    cv.waitKey(0)\n",
    "\n",
    "\n",
    "if __name__ == \"__main__\":\n",
    "\n",
    "    img = cv.imread(r\"D:\\resource\\mizh\\kazuma.jpg\", 0)\n",
    "    size = 160\n",
    "    img = cv.resize(img, (size, size))\n",
    "    x = np.where(img > 255 / 2.5, 1, -1)\n",
    "    x_masked = x.copy()\n",
    "    x_masked[size // 2:, :] = -1\n",
    "    show(x_masked)\n",
    "    model = Hopfield(size = size)\n",
    "    model.train([x])\n",
    "    y, energy = model.test_one_frame(x_masked)\n",
    "    show(y)\n",
    "    plt.plot(energy, label='energy')\n",
    "    plt.show()\n"
   ]
  },
  {
   "cell_type": "code",
   "execution_count": 2,
   "outputs": [],
   "source": [],
   "metadata": {
    "collapsed": false,
    "ExecuteTime": {
     "end_time": "2023-12-14T09:16:06.210164600Z",
     "start_time": "2023-12-14T09:16:06.199051100Z"
    }
   },
   "id": "e46c8eb5524fb850"
  },
  {
   "cell_type": "code",
   "execution_count": null,
   "outputs": [],
   "source": [],
   "metadata": {
    "collapsed": false
   },
   "id": "ab3f096ec400f2ee"
  }
 ],
 "metadata": {
  "kernelspec": {
   "display_name": "Python 3",
   "language": "python",
   "name": "python3"
  },
  "language_info": {
   "codemirror_mode": {
    "name": "ipython",
    "version": 2
   },
   "file_extension": ".py",
   "mimetype": "text/x-python",
   "name": "python",
   "nbconvert_exporter": "python",
   "pygments_lexer": "ipython2",
   "version": "2.7.6"
  }
 },
 "nbformat": 4,
 "nbformat_minor": 5
}
