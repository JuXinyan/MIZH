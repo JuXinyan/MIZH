{
 "cells": [
  {
   "cell_type": "code",
   "execution_count": 22,
   "outputs": [],
   "source": [
    "import numpy as np\n",
    "import matplotlib.pyplot as plt\n",
    "import cv2 as cv\n",
    "%matplotlib inline\n",
    "\n",
    "V_MP = 0.03\n",
    "V_REST = -0.065\n",
    "\n",
    "class Hopfield:\n",
    "    def __init__(self, size=64, iter=10):\n",
    "        self.iter = iter\n",
    "        self.size = size\n",
    "        self.W = np.zeros((size ** 2, size ** 2))\n",
    "\n",
    "    def train(self, X):\n",
    "        n = self.size ** 2\n",
    "        for x in X:  # (-1,64*64)\n",
    "            x = np.reshape(x, (n, 1))\n",
    "            xT = np.reshape(x, (1, n))\n",
    "            self.W += x * xT / n\n",
    "            \n",
    "        self.W[np.diag_indices_from(self.W)] = 0\n",
    "\n",
    "    def test_one_frame(self, x):\n",
    "        n = self.size ** 2\n",
    "        x = np.reshape(x, (n,))\n",
    "        energy = []\n",
    "        for iter in range(self.iter):\n",
    "            h = np.zeros((n,))\n",
    "            for i in range(n):\n",
    "                i = np.random.randint(n)\n",
    "                h[i] = self.W[i, :].dot(x)\n",
    "                # print(i)\n",
    "            \n",
    "            x[h > 0] = 1\n",
    "            x[h < 0] = -1\n",
    "            energy.append(self.cal_energy(x))\n",
    "\n",
    "        return np.resize(x, (self.size, self.size)), energy\n",
    "\n",
    "    def cal_energy(self, x):\n",
    "        n = self.size ** 2\n",
    "        energy = np.sum(self.W.dot(x) * x)\n",
    "        \n",
    "        return -0.5 * energy\n",
    "\n",
    "def show(x):\n",
    "    img = np.where(x > 0, 255, 0).astype(np.uint8)\n",
    "    cv.imshow(\"img\", img)\n",
    "    cv.waitKey(0)\n",
    "\n",
    "class mIZH(Hopfield):\n",
    "    def __init__(self, size=64, iter=5):\n",
    "        super().__init__(size, iter)\n",
    "        self.a1 = 0.04\n",
    "        self.a2 = 5.0\n",
    "        self.a3 = 140.0\n",
    "        self.a4 = 1.0\n",
    "        self.a5 = 1.0\n",
    "        self.r = 0.02\n",
    "            \n",
    "    def test_one_frame(self, x):      \n",
    "        \n",
    "        n = self.size ** 2\n",
    "        x = np.reshape(x, (n,))\n",
    "        il = np.zeros(n)\n",
    "        il.astype(float)\n",
    "        u = il.copy()\n",
    "        \n",
    "        il_new = il.copy()\n",
    "        u_new = u.copy()\n",
    "        x = np.reshape(x,(n,1)) \n",
    "        x_new = x.copy() \n",
    "        \n",
    "        energy = []\n",
    "        # 迭代遍历。\n",
    "        for _ in range(self.iter):\n",
    "            # 更新x矩阵\n",
    "            # 对每个x矩阵均进行更新。\n",
    "            # TODO: 用一个新的x矩阵来进行存储。 Done.\n",
    "            # 先对x_new进行计算。x不动。\n",
    "            for i in range(len(u)):\n",
    "                iext = 0;\n",
    "                for j in range(self.size):\n",
    "                    iext += self.W[i][j]*x[j]\n",
    "                il_new[i] = il[i]+self.r*((self.a1*u[i]+self.a2) * u[i] + self.a3 - il[i])\n",
    "                # u[i] = u[i] + (self.a1*u[i]+self.a2) * u[i]+self.a3-self.a4*il[i] + self.a5 * iext[i]\n",
    "                u_new[i] = u[i] + (self.a1*u[i]+self.a2) * u[i]+self.a3-self.a4*il[i] + self.a5 * iext\n",
    "                \n",
    "                if abs(u_new[i]-V_REST) < 1e-5: # 浮点误差\n",
    "                    x_new[i] = x[i]\n",
    "                else:\n",
    "                    if u_new[i] > V_MP:\n",
    "                        x_new[i] = 1;\n",
    "                    else:\n",
    "                        x_new[i] = -1;\n",
    "            # 该轮迭代完成，更新x, u, il。\n",
    "            x = x_new.copy()\n",
    "            u = u_new.copy()\n",
    "            il = il_new.copy()\n",
    "            energy.append(self.cal_energy(x_new))\n",
    "            # energy.append(0)\n",
    "        # return X[-1]\n",
    "        return np.resize(x_new, (self.size, self.size)), energy\n",
    "        "
   ],
   "metadata": {
    "collapsed": true,
    "ExecuteTime": {
     "end_time": "2023-12-16T11:04:29.346552600Z",
     "start_time": "2023-12-16T11:04:29.276281Z"
    }
   },
   "id": "initial_id"
  },
  {
   "cell_type": "markdown",
   "source": [
    "这是一个markdown模板"
   ],
   "metadata": {
    "collapsed": false
   },
   "id": "50c53c735fffbf64"
  },
  {
   "cell_type": "code",
   "execution_count": 24,
   "outputs": [
    {
     "name": "stderr",
     "output_type": "stream",
     "text": [
      "C:\\ProgramData\\Anaconda3\\lib\\site-packages\\ipykernel_launcher.py:86: RuntimeWarning: overflow encountered in double_scalars\n",
      "C:\\ProgramData\\Anaconda3\\lib\\site-packages\\ipykernel_launcher.py:88: RuntimeWarning: overflow encountered in double_scalars\n",
      "C:\\ProgramData\\Anaconda3\\lib\\site-packages\\ipykernel_launcher.py:86: RuntimeWarning: invalid value encountered in double_scalars\n",
      "C:\\ProgramData\\Anaconda3\\lib\\site-packages\\ipykernel_launcher.py:88: RuntimeWarning: invalid value encountered in double_scalars\n"
     ]
    },
    {
     "data": {
      "text/plain": "<Figure size 432x288 with 1 Axes>",
      "image/png": "[encoded data removed]"
     },
     "metadata": {
      "needs_background": "light"
     },
     "output_type": "display_data"
    }
   ],
   "source": [
    "if __name__ == \"__main__\":\n",
    "\n",
    "    img = cv.imread(r\"D:\\resource\\mizh\\kazuma.jpg\", 0)\n",
    "    size = 40\n",
    "    img = cv.resize(img, (size, size))\n",
    "    x = np.where(img > 255 / 2.5, 1, -1)\n",
    "    x_masked = x.copy()\n",
    "    x_masked[size // 2:, :] = -1\n",
    "    img2  = cv.imread(r\"D:\\resource\\mizh\\fnn.jpg\", 0)\n",
    "    img2 =  cv.resize(img2, (size, size))\n",
    "    x2 = np.where(img2 > 255 / 2.5, 1, -1)\n",
    "    x_masked2 = x2.copy()\n",
    "    x_masked2[size // 2:, :] = -1\n",
    "    # show(x_masked)\n",
    "    \n",
    "    model =mIZH(size = size, iter=11)\n",
    "    model.train([x])\n",
    "    # y0 = model.train([x_masked2])\n",
    "    # y0 = np.reshape(y0, (size,size))\n",
    "    y, energy = model.test_one_frame(x_masked)\n",
    "    show(y)\n",
    "    plt.plot(energy, label='energy')\n",
    "    plt.show()\n",
    "    "
   ],
   "metadata": {
    "collapsed": false,
    "ExecuteTime": {
     "end_time": "2023-12-16T11:04:41.596003600Z",
     "start_time": "2023-12-16T11:04:38.263486500Z"
    }
   },
   "id": "e202bd66b48d0fc3"
  },
  {
   "cell_type": "code",
   "execution_count": 23,
   "outputs": [],
   "source": [],
   "metadata": {
    "collapsed": false,
    "ExecuteTime": {
     "end_time": "2023-12-16T11:04:32.668658100Z",
     "start_time": "2023-12-16T11:04:32.648517Z"
    }
   },
   "id": "1b58462605e257ac"
  },
  {
   "cell_type": "code",
   "execution_count": 23,
   "outputs": [],
   "source": [],
   "metadata": {
    "collapsed": false,
    "ExecuteTime": {
     "end_time": "2023-12-16T11:04:32.689000500Z",
     "start_time": "2023-12-16T11:04:32.664479400Z"
    }
   },
   "id": "818b1e985475c598"
  }
 ],
 "metadata": {
  "kernelspec": {
   "display_name": "Python 3",
   "language": "python",
   "name": "python3"
  },
  "language_info": {
   "codemirror_mode": {
    "name": "ipython",
    "version": 2
   },
   "file_extension": ".py",
   "mimetype": "text/x-python",
   "name": "python",
   "nbconvert_exporter": "python",
   "pygments_lexer": "ipython2",
   "version": "2.7.6"
  }
 },
 "nbformat": 4,
 "nbformat_minor": 5
}
