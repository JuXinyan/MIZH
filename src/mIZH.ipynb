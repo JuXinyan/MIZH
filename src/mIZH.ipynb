{
 "cells": [
  {
   "cell_type": "code",
   "execution_count": 38,
   "outputs": [],
   "source": [
    "import numpy as np\n",
    "import matplotlib.pyplot as plt\n",
    "import cv2 as cv\n",
    "%matplotlib inline\n",
    "\n",
    "V_MP = 0.03\n",
    "V_REST = -0.065\n",
    "\n",
    "class Hopfield:\n",
    "    def __init__(self, size=64, iter=10):\n",
    "        self.iter = iter\n",
    "        self.size = size\n",
    "        self.W = np.zeros((size ** 2, size ** 2))\n",
    "\n",
    "    def train(self, X):\n",
    "        n = self.size ** 2\n",
    "        for x in X:  # (-1,64*64)\n",
    "            x = np.reshape(x, (n, 1))\n",
    "            xT = np.reshape(x, (1, n))\n",
    "            self.W += x * xT / n\n",
    "        self.W[np.diag_indices_from(self.W)] = 0\n",
    "\n",
    "    def test_one_frame(self, x):\n",
    "        n = self.size ** 2\n",
    "        x = np.reshape(x, (n,))\n",
    "        energy = []\n",
    "        for iter in range(self.iter):\n",
    "            h = np.zeros((n,))\n",
    "            for i in range(n):\n",
    "                i = np.random.randint(n)\n",
    "                h[i] = self.W[i, :].dot(x)\n",
    "            x[h > 0] = 1\n",
    "            x[h < 0] = -1\n",
    "            energy.append(self.cal_energy(x))\n",
    "\n",
    "        return np.resize(x, (self.size, self.size)), energy\n",
    "\n",
    "    def cal_energy(self, x):\n",
    "        n = self.size ** 2\n",
    "        energy = np.sum(self.W.dot(x) * x)\n",
    "        \n",
    "        return -0.5 * energy\n",
    "\n",
    "def show(x):\n",
    "    img = np.where(x > 0, 255, 0).astype(np.uint8)\n",
    "    cv.imshow(\"img\", img)\n",
    "    cv.waitKey(0)\n",
    "\n",
    "class mIZH(Hopfield):\n",
    "    def __init__(self, size=64, iter=5):\n",
    "        super().__init__(size, iter)\n",
    "        self.a1 = 0.04\n",
    "        self.a2 = 5.0\n",
    "        self.a3 = 140.0\n",
    "        self.a4 = 1.0\n",
    "        self.a5 = 1.0\n",
    "        self.r = 0.02\n",
    "        \n",
    "    # def memorize(self, X):\n",
    "        \n",
    "            \n",
    "    # def train(self, X):\n",
    "    #     n = self.size ** 2\n",
    "    #     for x in X:\n",
    "    #         x = np.reshape(x, (n, 1))\n",
    "    #         xT = np.reshape(x, (1, n))\n",
    "    #         self.W += x * xT / n\n",
    "    #         # check: 先求和再减，还是先减再求和。\n",
    "    #         self.W[np.diag_indices_from(self.W)] = 0\n",
    "            \n",
    "    def test_one_frame(self, x):\n",
    "        x = np.array(x)\n",
    "        n = self.size ** 2\n",
    "        il = np.zeros(n)\n",
    "        il.astype(float)\n",
    "        u = il.copy()\n",
    "        \n",
    "        for _ in range(self.iter):\n",
    "            iext = np.zeros(n)\n",
    "            # print(x.shape)\n",
    "            x = np.reshape(x,(n,1))  \n",
    "            iext = iext + (self.W.dot(x)).T\n",
    "            iext = iext.T\n",
    "            energy = []\n",
    "            print(\"iter:%d\" % self.iter)\n",
    "            print('x: ')\n",
    "            print(np.reshape(x, (self.size, self.size)))\n",
    "            for i in range(len(u)):\n",
    "                il[i] = il[i]+self.r*((self.a1*u[i]+self.a2) * u[i] + self.a3 - il[i])\n",
    "                u[i] = u[i] + (self.a1*u[i]+self.a2) * u[i]+self.a3-self.a4*il[i] + self.a5 * iext[i]\n",
    "                \n",
    "                if abs(u[i]-V_REST) < 1e-5:\n",
    "                    x[i] = x[i]\n",
    "                else:\n",
    "                    if u[i] > V_MP:\n",
    "                        x[i] = 1;\n",
    "                    else:\n",
    "                        x[i] = -1;\n",
    "            energy.append(self.cal_energy(x))\n",
    "            # energy.append(0)\n",
    "        # return X[-1]\n",
    "        return np.resize(x, (self.size, self.size)), energy\n",
    "        "
   ],
   "metadata": {
    "collapsed": true,
    "ExecuteTime": {
     "end_time": "2023-12-15T14:19:07.045678800Z",
     "start_time": "2023-12-15T14:19:07.027413600Z"
    }
   },
   "id": "initial_id"
  },
  {
   "cell_type": "markdown",
   "source": [
    "\n",
    "这是一个markdown模板"
   ],
   "metadata": {
    "collapsed": false
   },
   "id": "50c53c735fffbf64"
  },
  {
   "cell_type": "code",
   "execution_count": 51,
   "outputs": [
    {
     "data": {
      "text/plain": "<Figure size 432x288 with 1 Axes>",
      "image/png": "[encoded data removed]"
     },
     "metadata": {
      "needs_background": "light"
     },
     "output_type": "display_data"
    }
   ],
   "source": [
    "if __name__ == \"__main__\":\n",
    "\n",
    "    img = cv.imread(r\"D:\\resource\\mizh\\kazuma.jpg\", 0)\n",
    "    size = 100\n",
    "    img = cv.resize(img, (size, size))\n",
    "    x = np.where(img > 255 / 2.5, 1, -1)\n",
    "    x_masked = x.copy()\n",
    "    x_masked[size // 2:, :] = -1\n",
    "    img2  = cv.imread(r\"D:\\resource\\mizh\\fnn.jpg\", 0)\n",
    "    img2 =  cv.resize(img2, (size, size))\n",
    "    x2 = np.where(img2 > 255 / 2.5, 1, -1)\n",
    "    x_masked2 = x2.copy()\n",
    "    x_masked2[size // 2:, :] = -1\n",
    "    # show(x_masked)\n",
    "    \n",
    "    model =Hopfield(size = size, iter=10)\n",
    "    model.train([x2,x2,x])\n",
    "    # y0 = model.train([x_masked2])\n",
    "    # y0 = np.reshape(y0, (size,size))\n",
    "    y, energy = model.test_one_frame(x_masked2)\n",
    "    show(y)\n",
    "    plt.plot(energy, label='energy')\n",
    "    plt.show()\n",
    "    "
   ],
   "metadata": {
    "collapsed": false,
    "ExecuteTime": {
     "end_time": "2023-12-15T14:21:32.941371400Z",
     "start_time": "2023-12-15T14:21:23.424430700Z"
    }
   },
   "id": "e202bd66b48d0fc3"
  },
  {
   "cell_type": "code",
   "execution_count": 39,
   "outputs": [],
   "source": [],
   "metadata": {
    "collapsed": false,
    "ExecuteTime": {
     "end_time": "2023-12-15T14:19:12.233311500Z",
     "start_time": "2023-12-15T14:19:12.204832Z"
    }
   },
   "id": "1b58462605e257ac"
  },
  {
   "cell_type": "code",
   "execution_count": 39,
   "outputs": [],
   "source": [],
   "metadata": {
    "collapsed": false,
    "ExecuteTime": {
     "end_time": "2023-12-15T14:19:12.242999100Z",
     "start_time": "2023-12-15T14:19:12.220915100Z"
    }
   },
   "id": "818b1e985475c598"
  }
 ],
 "metadata": {
  "kernelspec": {
   "display_name": "Python 3",
   "language": "python",
   "name": "python3"
  },
  "language_info": {
   "codemirror_mode": {
    "name": "ipython",
    "version": 2
   },
   "file_extension": ".py",
   "mimetype": "text/x-python",
   "name": "python",
   "nbconvert_exporter": "python",
   "pygments_lexer": "ipython2",
   "version": "2.7.6"
  }
 },
 "nbformat": 4,
 "nbformat_minor": 5
}
